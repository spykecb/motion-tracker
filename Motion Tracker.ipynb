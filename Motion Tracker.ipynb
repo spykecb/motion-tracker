{
 "cells": [
  {
   "cell_type": "markdown",
   "id": "d5e52022-9223-4044-be1f-1925566aa09d",
   "metadata": {},
   "source": [
    "# Motion Tracker\n",
    "\n",
    "Let's see how this goes."
   ]
  },
  {
   "cell_type": "code",
   "execution_count": 1,
   "id": "e070c032-84bf-462c-bfb7-dcdd53f9536e",
   "metadata": {},
   "outputs": [
    {
     "name": "stdout",
     "output_type": "stream",
     "text": [
      "[[427.2828  159.5063  423.8043  ... 175.3759  512.      512.     ]\n",
      " [ 58.89619 200.3518   57.66553 ... 109.6327  199.4424  512.     ]\n",
      " [ 56.62703 197.7006   55.75322 ... 109.5486  211.0894  512.     ]\n",
      " ...\n",
      " [267.1249  273.6018  267.8411  ... 156.7243  319.422   334.2008 ]\n",
      " [272.3236  252.0337  272.9275  ... 159.5024  333.1688  382.6782 ]\n",
      " [160.876   282.3982  162.0605  ...  78.31488 235.9064  403.2061 ]]\n",
      "0.0 512.0\n"
     ]
    }
   ],
   "source": [
    "%matplotlib inline\n",
    "%config InlineBackend.figure_format = 'retina'\n",
    "\n",
    "import matplotlib.pyplot as plt\n",
    "\n",
    "import torch\n",
    "from torchvision import datasets, transforms\n",
    "import numpy as np\n",
    "import pandas as pd\n",
    "import os\n",
    "from PIL import Image\n",
    "from skimage import io, transform\n",
    "from torch.utils.data import Dataset, DataLoader\n",
    "from model import MotionDataset, PositionFinder, BoundingBoxFinder\n",
    "import helper\n",
    "\n",
    "# minmax, minmax_z = helper.get_minmax('train/input.csv', 'test/input.csv')\n",
    "# print(minmax[0], minmax[1])\n",
    "# print(minmax_z[0], minmax_z[1])\n",
    "\n",
    "minmax, minmax_z = helper.get_minmax('train/input.csv', 'test/input.csv')\n",
    "print(minmax[0], minmax[1])\n",
    "# print(minmax_z[0], minmax_z[1])\n",
    "\n",
    "img_width = 256\n",
    "#randomly rotate or transform the images to help training\n",
    "train_transforms = transforms.Compose([\n",
    "#                                         transforms.RandomRotation(30),\n",
    "#                                         transforms.RandomResizedCrop(256),\n",
    "                                        transforms.Resize((img_width,img_width)),\n",
    "                                       transforms.ToTensor()\n",
    "                                       ,transforms.Normalize([0.485, 0.456, 0.406], \n",
    "                                                             [0.229, 0.224, 0.225])\n",
    "                                      ])\n",
    "\n",
    "test_transforms = transforms.Compose([\n",
    "                                       transforms.Resize((img_width,img_width)),\n",
    "                                       transforms.ToTensor()\n",
    "                                           ,transforms.Normalize([0.485, 0.456, 0.406], \n",
    "                                                             [0.229, 0.224, 0.225])\n",
    "                                      ])\n",
    "\n",
    "\n",
    "motions = MotionDataset('train/input.csv', 'train', train_transforms, minmax, minmax_z)\n",
    "trainloader = DataLoader(motions, batch_size=8, shuffle=True)\n",
    "inp, output = next(iter(trainloader))\n",
    "\n",
    "motions_test = MotionDataset('test/input.csv', 'test', test_transforms, minmax, minmax_z)\n",
    "testloader = torch.utils.data.DataLoader(motions_test, batch_size=8, shuffle=True)"
   ]
  },
  {
   "cell_type": "markdown",
   "id": "3d8899ec-6a9c-4ade-993e-f7b0fc2958cb",
   "metadata": {},
   "source": [
    "## Prepare neural network model\n"
   ]
  },
  {
   "cell_type": "code",
   "execution_count": 2,
   "id": "9565a269-deca-45fc-8c7a-13f57d46e172",
   "metadata": {},
   "outputs": [
    {
     "name": "stdout",
     "output_type": "stream",
     "text": [
      "PositionFinder(\n",
      "  (conv1): Conv2d(3, 32, kernel_size=(3, 3), stride=(1, 1), padding=(1, 1))\n",
      "  (conv1_bn): BatchNorm2d(32, eps=1e-05, momentum=0.1, affine=True, track_running_stats=True)\n",
      "  (conv2_s): Conv2d(32, 64, kernel_size=(3, 3), stride=(2, 2), padding=(1, 1))\n",
      "  (conv2_1): Conv2d(64, 64, kernel_size=(3, 3), stride=(1, 1), padding=(1, 1))\n",
      "  (conv2): Conv2d(64, 64, kernel_size=(3, 3), stride=(1, 1), padding=(1, 1))\n",
      "  (conv2_bn): BatchNorm2d(64, eps=1e-05, momentum=0.1, affine=True, track_running_stats=True)\n",
      "  (conv3_s): Conv2d(64, 128, kernel_size=(3, 3), stride=(2, 2), padding=(1, 1))\n",
      "  (conv3_1): Conv2d(128, 128, kernel_size=(3, 3), stride=(1, 1), padding=(1, 1))\n",
      "  (conv3): Conv2d(128, 128, kernel_size=(3, 3), stride=(1, 1), padding=(1, 1))\n",
      "  (conv3_bn): BatchNorm2d(128, eps=1e-05, momentum=0.1, affine=True, track_running_stats=True)\n",
      "  (conv4_s): Conv2d(128, 256, kernel_size=(3, 3), stride=(2, 2), padding=(1, 1))\n",
      "  (conv4_1): Conv2d(256, 256, kernel_size=(3, 3), stride=(1, 1), padding=(1, 1))\n",
      "  (conv4): Conv2d(256, 256, kernel_size=(3, 3), stride=(1, 1), padding=(1, 1))\n",
      "  (conv4_bn): BatchNorm2d(256, eps=1e-05, momentum=0.1, affine=True, track_running_stats=True)\n",
      "  (conv5_s): Conv2d(256, 512, kernel_size=(3, 3), stride=(2, 2), padding=(1, 1))\n",
      "  (conv5_1): Conv2d(512, 512, kernel_size=(3, 3), stride=(1, 1), padding=(1, 1))\n",
      "  (conv5): Conv2d(512, 512, kernel_size=(3, 3), stride=(1, 1), padding=(1, 1))\n",
      "  (conv5_bn): BatchNorm2d(512, eps=1e-05, momentum=0.1, affine=True, track_running_stats=True)\n",
      "  (pool): MaxPool2d(kernel_size=2, stride=2, padding=0, dilation=1, ceil_mode=False)\n",
      "  (avgpool): AvgPool2d(kernel_size=2, stride=2, padding=0)\n",
      "  (hidden1): Linear(in_features=32770, out_features=500, bias=True)\n",
      "  (dense1_bn): BatchNorm1d(1000, eps=1e-05, momentum=0.1, affine=True, track_running_stats=True)\n",
      "  (output): Linear(in_features=500, out_features=10, bias=True)\n",
      "  (dropout): Dropout(p=0.2, inplace=False)\n",
      ")\n"
     ]
    },
    {
     "data": {
      "text/plain": [
       "BoundingBoxFinder(\n",
       "  (conv1): Conv2d(3, 32, kernel_size=(3, 3), stride=(1, 1), padding=(1, 1))\n",
       "  (conv1_bn): BatchNorm2d(32, eps=1e-05, momentum=0.1, affine=True, track_running_stats=True)\n",
       "  (conv2_s): Conv2d(32, 64, kernel_size=(3, 3), stride=(2, 2), padding=(1, 1))\n",
       "  (conv2_1): Conv2d(64, 64, kernel_size=(3, 3), stride=(1, 1), padding=(1, 1))\n",
       "  (conv2): Conv2d(64, 64, kernel_size=(3, 3), stride=(1, 1), padding=(1, 1))\n",
       "  (conv3_s): Conv2d(64, 128, kernel_size=(3, 3), stride=(2, 2), padding=(1, 1))\n",
       "  (conv3_1): Conv2d(128, 128, kernel_size=(3, 3), stride=(1, 1), padding=(1, 1))\n",
       "  (conv3): Conv2d(128, 128, kernel_size=(3, 3), stride=(1, 1), padding=(1, 1))\n",
       "  (conv4_s): Conv2d(128, 256, kernel_size=(3, 3), stride=(2, 2), padding=(1, 1))\n",
       "  (conv4_1): Conv2d(256, 256, kernel_size=(3, 3), stride=(1, 1), padding=(1, 1))\n",
       "  (conv4): Conv2d(256, 256, kernel_size=(3, 3), stride=(1, 1), padding=(1, 1))\n",
       "  (conv5_s): Conv2d(256, 512, kernel_size=(3, 3), stride=(2, 2), padding=(1, 1))\n",
       "  (conv5_1): Conv2d(512, 512, kernel_size=(3, 3), stride=(1, 1), padding=(1, 1))\n",
       "  (conv5): Conv2d(512, 512, kernel_size=(3, 3), stride=(1, 1), padding=(1, 1))\n",
       "  (pool): MaxPool2d(kernel_size=2, stride=2, padding=0, dilation=1, ceil_mode=False)\n",
       "  (avgpool): AvgPool2d(kernel_size=2, stride=2, padding=0)\n",
       "  (hidden1): Linear(in_features=131072, out_features=1000, bias=True)\n",
       "  (output): Linear(in_features=1000, out_features=4, bias=True)\n",
       "  (dropout): Dropout(p=0.4, inplace=False)\n",
       ")"
      ]
     },
     "execution_count": 2,
     "metadata": {},
     "output_type": "execute_result"
    }
   ],
   "source": [
    "device = 'cuda'\n",
    "model = PositionFinder(img_width)\n",
    "print(model)\n",
    "\n",
    "# Boundaries detection\n",
    "bmodel = BoundingBoxFinder(img_width)\n",
    "bmodel.load_state_dict(torch.load('bmodel.m'))\n",
    "train_transforms = transforms.Compose([\n",
    "                                       transforms.ToTensor()\n",
    "                                       ,transforms.Normalize([0.485, 0.456, 0.406], \n",
    "                                                             [0.229, 0.224, 0.225])\n",
    "                                      ])\n",
    "\n",
    "motions = MotionDataset('train/input.csv', 'train', train_transforms, minmax, minmax_z)\n",
    "trainloader = DataLoader(motions, batch_size=8, shuffle=False)\n",
    "\n",
    "bboxes = []\n",
    "bmodel.to(device)"
   ]
  },
  {
   "cell_type": "code",
   "execution_count": 3,
   "id": "c5c6159b-3000-47fa-ac73-5daa5610cbce",
   "metadata": {},
   "outputs": [
    {
     "name": "stdout",
     "output_type": "stream",
     "text": [
      "tensor([0.5620, 0.2623, 0.8326, 0.7496])\n",
      "tensor([0.5620, 0.2623, 0.8326, 0.7496])\n"
     ]
    },
    {
     "data": {
      "text/plain": [
       "BoundingBoxFinder(\n",
       "  (conv1): Conv2d(3, 32, kernel_size=(3, 3), stride=(1, 1), padding=(1, 1))\n",
       "  (conv1_bn): BatchNorm2d(32, eps=1e-05, momentum=0.1, affine=True, track_running_stats=True)\n",
       "  (conv2_s): Conv2d(32, 64, kernel_size=(3, 3), stride=(2, 2), padding=(1, 1))\n",
       "  (conv2_1): Conv2d(64, 64, kernel_size=(3, 3), stride=(1, 1), padding=(1, 1))\n",
       "  (conv2): Conv2d(64, 64, kernel_size=(3, 3), stride=(1, 1), padding=(1, 1))\n",
       "  (conv3_s): Conv2d(64, 128, kernel_size=(3, 3), stride=(2, 2), padding=(1, 1))\n",
       "  (conv3_1): Conv2d(128, 128, kernel_size=(3, 3), stride=(1, 1), padding=(1, 1))\n",
       "  (conv3): Conv2d(128, 128, kernel_size=(3, 3), stride=(1, 1), padding=(1, 1))\n",
       "  (conv4_s): Conv2d(128, 256, kernel_size=(3, 3), stride=(2, 2), padding=(1, 1))\n",
       "  (conv4_1): Conv2d(256, 256, kernel_size=(3, 3), stride=(1, 1), padding=(1, 1))\n",
       "  (conv4): Conv2d(256, 256, kernel_size=(3, 3), stride=(1, 1), padding=(1, 1))\n",
       "  (conv5_s): Conv2d(256, 512, kernel_size=(3, 3), stride=(2, 2), padding=(1, 1))\n",
       "  (conv5_1): Conv2d(512, 512, kernel_size=(3, 3), stride=(1, 1), padding=(1, 1))\n",
       "  (conv5): Conv2d(512, 512, kernel_size=(3, 3), stride=(1, 1), padding=(1, 1))\n",
       "  (pool): MaxPool2d(kernel_size=2, stride=2, padding=0, dilation=1, ceil_mode=False)\n",
       "  (avgpool): AvgPool2d(kernel_size=2, stride=2, padding=0)\n",
       "  (hidden1): Linear(in_features=131072, out_features=1000, bias=True)\n",
       "  (output): Linear(in_features=1000, out_features=4, bias=True)\n",
       "  (dropout): Dropout(p=0.4, inplace=False)\n",
       ")"
      ]
     },
     "execution_count": 3,
     "metadata": {},
     "output_type": "execute_result"
    },
    {
     "data": {
      "image/png": "[encoded data removed]",
      "text/plain": [
       "<Figure size 432x288 with 1 Axes>"
      ]
     },
     "metadata": {
      "image/png": {
       "height": 231,
       "width": 231
      },
      "needs_background": "light"
     },
     "output_type": "display_data"
    }
   ],
   "source": [
    "from model import MotionDataset, my_loss\n",
    "train_transforms = transforms.Compose([\n",
    "#                                         transforms.RandomRotation(30),\n",
    "                                       transforms.Resize((img_width,img_width)),\n",
    "                                       transforms.ToTensor()\n",
    "                                       ,transforms.Normalize([0.485, 0.456, 0.406], \n",
    "                                                             [0.229, 0.224, 0.225])\n",
    "                                      ])\n",
    "motions = MotionDataset('train/input_new.csv', 'train', train_transforms, minmax, minmax_z, bmodel=bmodel)\n",
    "trainloader = DataLoader(motions, batch_size=8, shuffle=True)\n",
    "inp, output = next(iter(trainloader))\n",
    "print(inp[\"bboxes\"][0])\n",
    "print(output[\"boundaries\"][0])\n",
    "helper.imshow(inp[\"images\"][0])\n",
    "\n",
    "motions_test = MotionDataset('test/input_new.csv', 'test', test_transforms, minmax, minmax_z, bmodel=bmodel)\n",
    "testloader = torch.utils.data.DataLoader(motions_test, batch_size=8, shuffle=True)\n",
    "bmodel.to('cpu')"
   ]
  },
  {
   "cell_type": "markdown",
   "id": "bd92d1d1-6bbf-4b47-94bc-c932cde20f06",
   "metadata": {},
   "source": [
    "## Train position finder\n",
    "\n",
    "best loss (L1Loss Sum, 0.003, conv4)\n",
    "0.001 - 0.003\n",
    "\n",
    "\n",
    "```\n",
    " Epoch 22/25) Training loss: 6.749771996027863, Test loss: 10.508017539978027\n",
    "(Epoch 23/25) Training loss: 6.6242278638523295, Test loss: 10.340709686279297\n",
    "(Epoch 24/25) Training loss: 6.520543051754824, Test loss: 10.395054817199707\n",
    "```\n",
    "\n",
    "input contains image (human centered) height, isFacingForward\n",
    "\n",
    "output contains (x,y) coordinates for 22 body parts\n",
    " "
   ]
  },
  {
   "cell_type": "code",
   "execution_count": null,
   "id": "19559b1f-16ca-4d6e-95d2-bd38a7745985",
   "metadata": {},
   "outputs": [
    {
     "name": "stdout",
     "output_type": "stream",
     "text": [
      "NVIDIA GeForce RTX 3070\n",
      "PositionFinder(\n",
      "  (conv1): Conv2d(3, 32, kernel_size=(3, 3), stride=(1, 1), padding=(1, 1))\n",
      "  (conv1_bn): BatchNorm2d(32, eps=1e-05, momentum=0.1, affine=True, track_running_stats=True)\n",
      "  (conv2_s): Conv2d(32, 64, kernel_size=(3, 3), stride=(2, 2), padding=(1, 1))\n",
      "  (conv2_1): Conv2d(64, 64, kernel_size=(3, 3), stride=(1, 1), padding=(1, 1))\n",
      "  (conv2): Conv2d(64, 64, kernel_size=(3, 3), stride=(1, 1), padding=(1, 1))\n",
      "  (conv2_bn): BatchNorm2d(64, eps=1e-05, momentum=0.1, affine=True, track_running_stats=True)\n",
      "  (conv3_s): Conv2d(64, 128, kernel_size=(3, 3), stride=(2, 2), padding=(1, 1))\n",
      "  (conv3_1): Conv2d(128, 128, kernel_size=(3, 3), stride=(1, 1), padding=(1, 1))\n",
      "  (conv3): Conv2d(128, 128, kernel_size=(3, 3), stride=(1, 1), padding=(1, 1))\n",
      "  (conv3_bn): BatchNorm2d(128, eps=1e-05, momentum=0.1, affine=True, track_running_stats=True)\n",
      "  (conv4_s): Conv2d(128, 256, kernel_size=(3, 3), stride=(2, 2), padding=(1, 1))\n",
      "  (conv4_1): Conv2d(256, 256, kernel_size=(3, 3), stride=(1, 1), padding=(1, 1))\n",
      "  (conv4): Conv2d(256, 256, kernel_size=(3, 3), stride=(1, 1), padding=(1, 1))\n",
      "  (conv4_bn): BatchNorm2d(256, eps=1e-05, momentum=0.1, affine=True, track_running_stats=True)\n",
      "  (conv5_s): Conv2d(256, 512, kernel_size=(3, 3), stride=(2, 2), padding=(1, 1))\n",
      "  (conv5_1): Conv2d(512, 512, kernel_size=(3, 3), stride=(1, 1), padding=(1, 1))\n",
      "  (conv5): Conv2d(512, 512, kernel_size=(3, 3), stride=(1, 1), padding=(1, 1))\n",
      "  (conv5_bn): BatchNorm2d(512, eps=1e-05, momentum=0.1, affine=True, track_running_stats=True)\n",
      "  (pool): MaxPool2d(kernel_size=2, stride=2, padding=0, dilation=1, ceil_mode=False)\n",
      "  (avgpool): AvgPool2d(kernel_size=2, stride=2, padding=0)\n",
      "  (hidden1): Linear(in_features=32770, out_features=500, bias=True)\n",
      "  (dense1_bn): BatchNorm1d(1000, eps=1e-05, momentum=0.1, affine=True, track_running_stats=True)\n",
      "  (output): Linear(in_features=500, out_features=10, bias=True)\n",
      "  (dropout): Dropout(p=0.2, inplace=False)\n",
      ")\n",
      "(Epoch 1/10) Training loss: 7.628836483294744, Test loss: 7.325684547424316\n"
     ]
    }
   ],
   "source": [
    "from torch import optim, nn\n",
    "# Optimizers require the parameters to optimize and a learning rate\n",
    "# optimizer = optim.SGD(model.parameters(), lr=0.00000007, momentum=0.7, weight_decay=0.0005)\n",
    "optimizer = optim.SGD(model.parameters(), lr=0.01)\n",
    "criterion = nn.L1Loss(reduction='sum')\n",
    "bceloss = nn.BCEWithLogitsLoss()\n",
    "print(torch.cuda.get_device_name(0))\n",
    "train_losses, test_losses = [], []\n",
    "epochs = 10\n",
    "print(model)\n",
    "\n",
    "model.to(device)\n",
    "\n",
    "for e in range(epochs):\n",
    "    running_loss = 0\n",
    "    for inp, output in trainloader:\n",
    "        for k in inp:\n",
    "            inp[k] = inp[k].to(device)\n",
    "        for k in output:\n",
    "            output[k] = output[k].to(device)\n",
    "        \n",
    "        #1. forward pass\n",
    "        ps = model.forward(inp[\"images\"], inp[\"details\"], inp[\"bboxes\"])\n",
    "#         print(ps[0],  output[\"positions\"][0])\n",
    "#       print(np.min(ps.cpu().detach().numpy()), np.min(targets.cpu().detach().numpy()))\n",
    "#       print(np.max(ps.cpu().detach().numpy()), np.max(targets.cpu().detach().numpy()))\n",
    "\n",
    "        #2. calculate loss\n",
    "#         print(ps[0], positions[0])\n",
    "#         _loss = criterion(ps, output[\"positions\"]) / 8\n",
    "#         _bceloss = bceloss(confidences, output[\"confidences\"]) / 5\n",
    "#         loss = _loss + _bceloss\n",
    "        loss = criterion(ps, output[\"positions\"]) \n",
    "        #0. Clear the gradients, do this because gradients are accumulated\n",
    "        optimizer.zero_grad()\n",
    "\n",
    "        #3. run backward propagation\n",
    "        loss.backward()\n",
    "\n",
    "        # 4. Take an update step and few the new weights\n",
    "        optimizer.step()\n",
    "        running_loss += loss.item()\n",
    "    else:\n",
    "        test_loss = 0\n",
    "        accuracy = 0\n",
    "        \n",
    "        # Turn off gradients for validation, saves memory and computations\n",
    "        with torch.no_grad():\n",
    "            model.eval()\n",
    "            for inp, output in testloader:\n",
    "                for k in inp:\n",
    "                    inp[k] = inp[k].to(device)\n",
    "                for k in output:\n",
    "                    output[k] = output[k].to(device)\n",
    "                ps  = model.forward(inp[\"images\"], inp[\"details\"], inp[\"bboxes\"])\n",
    "#                 _loss = criterion(ps, output[\"positions\"]) / 8\n",
    "#                 _bceloss = bceloss(confidences, output[\"confidences\"]) / 5\n",
    "#                 test_loss += _loss + _bceloss\n",
    "                test_loss += criterion(ps, output[\"positions\"]) \n",
    "\n",
    "        \n",
    "        model.train()\n",
    "        \n",
    "        test_loss = test_loss/len(testloader)\n",
    "        train_loss = running_loss/len(trainloader)\n",
    "        train_losses.append(train_loss)\n",
    "        test_losses.append(test_loss)\n",
    "        print(f\"(Epoch {e+1}/{epochs}) Training loss: {train_loss}, Test loss: {test_loss}\")\n",
    "        \n",
    "PATH = 'model.m'\n",
    "torch.save(model.state_dict(), PATH)"
   ]
  },
  {
   "cell_type": "code",
   "execution_count": null,
   "id": "25f544c4-fe3e-4c32-af73-3fd12b7f67b1",
   "metadata": {},
   "outputs": [],
   "source": [
    "%matplotlib inline\n",
    "%config InlineBackend.figure_format = 'retina'\n",
    "\n",
    "import matplotlib.pyplot as plt\n",
    "test_losses = [test_loss.to('cpu') for test_loss in test_losses]\n",
    "plt.plot(train_losses, label='Training loss')\n",
    "plt.plot(test_losses, label='Validation loss')\n",
    "plt.legend(frameon=False)"
   ]
  },
  {
   "cell_type": "markdown",
   "id": "eac03711-c019-4a33-9cd3-b782dc4ee56e",
   "metadata": {},
   "source": [
    "## Use our model"
   ]
  },
  {
   "cell_type": "code",
   "execution_count": null,
   "id": "9d8f5312-c4ad-4b8f-ba9c-5726879c3616",
   "metadata": {},
   "outputs": [],
   "source": [
    "%matplotlib inline\n",
    "import helper\n",
    "# motions_test = MotionDataset('train/input.csv', 'train', test_transforms, minmax, minmax_z, bmodel=bmodel)\n",
    "motions_test = MotionDataset('test/input_new.csv', 'test', test_transforms, minmax, minmax_z, bmodel=bmodel)\n",
    "testloader = torch.utils.data.DataLoader(motions_test, batch_size=1, shuffle=True)\n",
    "inp, output = next(iter(testloader))\n",
    "\n",
    "model = PositionFinder(img_width)\n",
    "model.load_state_dict(torch.load('model.m'))\n",
    "\n",
    "# img = images[0].view(1, 195075)\n",
    "# img = torch.zeros(1,120000) + 222\n",
    "\n",
    "positions, positions_expected = helper.evaluate_model(model, inp, output)\n",
    "fig = plt.figure()\n",
    "ax = plt.axes()\n",
    "\n",
    "# zdata = positions.T[1]\n",
    "xdata = positions.T[0]\n",
    "ydata = positions.T[1]\n",
    "ax.set_xlim((0,1))\n",
    "ax.set_ylim((0,1))\n",
    "ax.scatter(xdata, [1 - y for y in ydata]);\n",
    "\n",
    "# zdata_e = positions_expected.T[1]\n",
    "xdata_e = positions_expected.T[0]\n",
    "ydata_e = positions_expected.T[1]\n",
    "ax.scatter(xdata_e, [1 - y for y in ydata_e], marker='^')\n",
    "# helper.imshow(inp[\"images\"][0], xdata=xdata, ydata=ydata)\n",
    "helper.imshow(inp[\"images\"][0], xdata=xdata, ydata=ydata, xdata_e=xdata_e, ydata_e=ydata_e)\n",
    "\n",
    "for i, pos in enumerate(positions):\n",
    "    label = helper.get_label(i)\n",
    "    if label is not None:\n",
    "#         label = label + \"{:.2f}\".format(confidences[0][i].item())\n",
    "        label = label + \"{:.2f}\".format(output[\"confidences\"][0][i].item())\n",
    "        ax.text(pos[0], 1 - pos[1], label, None, color=\"green\")"
   ]
  },
  {
   "cell_type": "code",
   "execution_count": null,
   "id": "76ac4ee5-6e12-4f35-9657-d41bef0f259b",
   "metadata": {},
   "outputs": [],
   "source": [
    "distances = []\n",
    "for i, pos in enumerate(positions):\n",
    "    pos_exp = positions_expected[i]\n",
    "    \n",
    "    dist = np.linalg.norm(pos_exp-pos)\n",
    "    distances.append(dist * 512)\n",
    "\n",
    "print(\"Total distance\", np.array(distances).sum())\n",
    "print(\"Avg distance\", np.array(distances).mean())\n",
    "plt.plot(distances, label='Distances')\n",
    "plt.legend(frameon=False)"
   ]
  },
  {
   "cell_type": "markdown",
   "id": "b5d73189-8436-4a42-a919-35dc8c9abbb1",
   "metadata": {},
   "source": [
    "## "
   ]
  },
  {
   "cell_type": "code",
   "execution_count": null,
   "id": "839fce70-e1e3-48d4-b581-e534509e3ad5",
   "metadata": {},
   "outputs": [],
   "source": [
    "from model import MotionDataset\n",
    "motions_test2 = MotionDataset('test2/input.csv', 'test2', test_transforms, minmax, minmax_z, bmodel=bmodel)\n",
    "testloader2 = torch.utils.data.DataLoader(motions_test2, batch_size=1, shuffle=True)\n",
    "inp, output = next(iter(testloader2))\n",
    "\n",
    "positions, positions_expected = helper.evaluate_model(model, inp, output)\n",
    "fig = plt.figure()\n",
    "ax = plt.axes()\n",
    "\n",
    "# zdata = positions.T[1]\n",
    "xdata = positions.T[0]\n",
    "ydata = positions.T[1]\n",
    "ax.set_xlim((0,1))\n",
    "ax.set_ylim((0,1))\n",
    "ax.scatter(xdata, [1 - y for y in ydata]);\n",
    "\n",
    "helper.imshow(inp[\"images\"][0], xdata=xdata, ydata=ydata)\n",
    "\n",
    "for i, pos in enumerate(positions):\n",
    "    label = helper.get_label(i)\n",
    "    if label is not None:\n",
    "#         label = label + \"{:.2f}\".format(confidences[0][i].item())\n",
    "        label = label + \"{:.2f}\".format(output[\"confidences\"][0][i].item())\n",
    "        ax.text(pos[0], 1 - pos[1], label, None, color=\"green\")"
   ]
  },
  {
   "cell_type": "code",
   "execution_count": null,
   "id": "5563366e-e345-44f4-81f9-1062a6bc65a5",
   "metadata": {},
   "outputs": [],
   "source": []
  },
  {
   "cell_type": "code",
   "execution_count": null,
   "id": "6ffadcf0-d063-41c4-a7d8-8ba801d9ca3e",
   "metadata": {},
   "outputs": [],
   "source": []
  },
  {
   "cell_type": "code",
   "execution_count": null,
   "id": "51b83b1d-914d-470d-aea6-2964772bd5f2",
   "metadata": {},
   "outputs": [],
   "source": []
  }
 ],
 "metadata": {
  "kernelspec": {
   "display_name": "Python 3",
   "language": "python",
   "name": "python3"
  },
  "language_info": {
   "codemirror_mode": {
    "name": "ipython",
    "version": 3
   },
   "file_extension": ".py",
   "mimetype": "text/x-python",
   "name": "python",
   "nbconvert_exporter": "python",
   "pygments_lexer": "ipython3",
   "version": "3.8.8"
  }
 },
 "nbformat": 4,
 "nbformat_minor": 5
}
